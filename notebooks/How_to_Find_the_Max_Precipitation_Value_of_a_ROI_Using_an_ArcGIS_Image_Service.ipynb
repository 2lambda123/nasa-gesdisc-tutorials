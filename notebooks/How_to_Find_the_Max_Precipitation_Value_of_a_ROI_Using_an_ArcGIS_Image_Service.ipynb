{
 "cells": [
  {
   "cell_type": "code",
   "execution_count": 1,
   "metadata": {
    "id": "g1mIwWZ6wWO6"
   },
   "outputs": [
    {
     "name": "stdout",
     "output_type": "stream",
     "text": [
      "Done installing and importing python packages.\n"
     ]
    }
   ],
   "source": [
    "      #Required for Google Colaboratory use only - Install tornado and arcgis\n",
    "#!pip install tornado --upgrade\n",
    "#import tornado.ioloop #necessary import\n",
    "#import tornado.web #necessary import\n",
    "#!pip install arcgis\n",
    "\n",
    "#--------\n",
    "\n",
    "    #Install arcgis using Anaconda environment (non-Google Colab) - set your shell for first-time use\n",
    "#conda init <shell name> #set your shell (e.g. - powershell, cmd.exe, bash, etc.) --> IMPORTANT: After running conda init, you may need to restart your shell for changes to take effect\n",
    "#conda activate base\n",
    "#conda install -c esri arcgis\n",
    "\n",
    "#--------\n",
    "\n",
    "      #Install arcgis using pip (non-Google colab)\n",
    "#pip install arcgis\n",
    "\n",
    "#--------\n",
    "\n",
    "      #MAY need to use both pip and conda if Anaconda is your default Python installtion - see Additional Info section in the how-to for an example\n",
    "\n",
    "#--------\n",
    "\n",
    "#Import modules - needed for all environments\n",
    "import arcgis\n",
    "from arcgis.raster import *\n",
    "import datetime\n",
    "from datetime import timezone\n",
    "\n",
    "\n",
    "print(\"Done installing and importing python packages.\")"
   ]
  },
  {
   "cell_type": "code",
   "execution_count": 2,
   "metadata": {
    "colab": {
     "base_uri": "https://localhost:8080/"
    },
    "id": "CQTlBc6KH9uC",
    "outputId": "c602310c-fed3-4d19-e653-b014961e81c2"
   },
   "outputs": [
    {
     "name": "stdout",
     "output_type": "stream",
     "text": [
      "1652745600000\n",
      "1653177600000\n"
     ]
    }
   ],
   "source": [
    "#User-defined start time in UTC\n",
    "start_year = 2022\n",
    "start_month = 5\n",
    "start_day = 17\n",
    "start_hour = 0\n",
    "\n",
    "#User-defined end time in UTC\n",
    "end_year = 2022\n",
    "end_month = 5\n",
    "end_day = 22\n",
    "end_hour = 0\n",
    "\n",
    "#UTC times from user-input\n",
    "start_utc_dt = datetime.datetime(start_year, start_month, start_day, start_hour)\n",
    "end_utc_dt = datetime.datetime(end_year, end_month, end_day, end_hour)\n",
    "\n",
    "#utc-timestamp conversion\n",
    "start_timestamp = int(start_utc_dt.replace(tzinfo=timezone.utc).timestamp())*1000\n",
    "end_timestamp = int(end_utc_dt.replace(tzinfo=timezone.utc).timestamp())*1000\n",
    "\n",
    "#print start and end timestamp\n",
    "print(start_timestamp)\n",
    "print(end_timestamp)"
   ]
  },
  {
   "cell_type": "code",
   "execution_count": 3,
   "metadata": {
    "id": "nfIGhUjZH9uG"
   },
   "outputs": [
    {
     "name": "stdout",
     "output_type": "stream",
     "text": [
      "Please wait for histograms to compute over the defined time range and aoi...this could take a few minutes.\n",
      "23.83  mm/hr is the maximum GPM precipitation value reported between the defined time range within the aoi.\n"
     ]
    }
   ],
   "source": [
    "#Define data source (NASA GPM IMERGHHE Imagery Service)\n",
    "data = ImageryLayer('https://arcgis.gesdisc.eosdis.nasa.gov/authoritative/rest/services/GPM_3IMERGHHE_06/ImageServer')\n",
    "\n",
    "#Define lists and time ranges\n",
    "time_range = []\n",
    "time_range = range(start_timestamp, end_timestamp, 1800000) #times in epoch milliseconds; 1800000 represents 0.5-hr timestep\n",
    "max_val_list = []\n",
    "\n",
    "#Define Area of Interest (aoi)\n",
    "aoi = {\"spatialReference\": {\"wkid\": 4326},\n",
    "        \"xmax\": -71.254028,\n",
    "        \"xmin\": -71.50000,\n",
    "        \"ymax\": 46.829853,\n",
    "        \"ymin\": 46.500000}\n",
    "\n",
    "#Log message\n",
    "print(\"Please wait for histograms to compute over the defined time range and aoi...this could take a few minutes.\")\n",
    "\n",
    "#Loop through computing histograms for each time slice over a constant aoi; extract each slice histogram's 'max' value and add to list\n",
    "for t in time_range:\n",
    "    comp_histo = data.compute_histograms(geometry=aoi, rendering_rule={\"rasterFunction\":None}, time=str(t))\n",
    "    if comp_histo['histograms'] == []:\n",
    "        max_val = 0\n",
    "        max_val_list.append(float(max_val))\n",
    "    else:\n",
    "        max_val = comp_histo['histograms'][0]['max']\n",
    "        max_val_list.append(float(max_val))\n",
    "\n",
    "#Sort the max val list over all time slices and aoi\n",
    "max_val_list.sort()\n",
    "\n",
    "#Print the overall maximum GPM value in mm/hr\n",
    "print(round(max_val_list[-1],2), \" mm/hr is the maximum GPM precipitation value reported between the defined time range within the aoi.\")"
   ]
  }
 ],
 "metadata": {
  "colab": {
   "collapsed_sections": [],
   "name": "GPM_IMERG_MaxPrecip_AOI_TIME.ipynb",
   "provenance": []
  },
  "kernelspec": {
   "display_name": "ArcGISPro",
   "language": "Python",
   "name": "python3"
  },
  "language_info": {
   "file_extension": ".py",
   "name": "python",
   "version": "3"
  }
 },
 "nbformat": 4,
 "nbformat_minor": 1
}
