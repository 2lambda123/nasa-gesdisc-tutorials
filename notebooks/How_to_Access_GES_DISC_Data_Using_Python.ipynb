{
 "cells": [
  {
   "attachments": {},
   "cell_type": "markdown",
   "id": "4da9684d-260e-49f4-a9ae-164738c17f3d",
   "metadata": {
    "id": "4da9684d-260e-49f4-a9ae-164738c17f3d"
   },
   "source": [
    "# How to Access GES DISC Data Using Python\n",
    "\n",
    "<p></p>\n",
    "\n",
    "<div style=\"background:#eeeeee; border:1px solid #cccccc;padding:5px 10px;\">Please, be very judicious when working on long data time series residing on a remote data server.<br />\n",
    "It is very likely that attempts to apply similar approaches on remote data, such as hourly data, for more than a year of data at a time, will result in a heavy load on the remote data server. This may lead to negative consequences, ranging from very slow performance that will be experienced by hundreds of other users, up to denial of service.</div>\n",
    "\n",
    "### Overview\n",
    "\n",
    "There are multiple ways to work with GES DISC data resources using Python. For example, the data can accessed using [techniques that rely on a native Python code](https://cmr.earthdata.nasa.gov/search/site/docs/search/api.html). \n",
    "\n",
    "Still, there are several third-party libraries that can further simplify the access. In the sections below, we demonstrate downloading and streaming granules to the notebook using these libraries.\n",
    "\n",
    "The examples will use a sample MERRA-2 granule, from the [M2T1NXSLV.5.12.4 collection](https://disc.gsfc.nasa.gov/datasets/M2T1NXSLV_5.12.4/summary?keywords=M2T1NXSLV_5.12.4), to demonstrate data access.\n",
    "\n",
    "### Prerequisites\n",
    "\n",
    "This notebook was written using Python 3.10, and requires these libraries and files:\n",
    "\n",
    "- `netrc` file with valid Earthdata Login credentials\n",
    "   - [How to Generate Earthdata Prerequisite Files](https://disc.gsfc.nasa.gov/information/howto?title=How%20to%20Generate%20Earthdata%20Prerequisite%20Files)\n",
    "- [requests](https://docs.python-requests.org/en/latest/) (version 2.22.0 or later)\n",
    "- [pydap](https://github.com/pydap/pydap) (we recommend using version 3.4.0 or later)\n",
    "- [xarray](https://docs.xarray.dev/en/stable/)\n",
    "- [netCDF4-python](https://github.com/Unidata/netcdf4-python) (we recommend using version 1.6.2)\n",
    "- [earthaccess](https://earthaccess.readthedocs.io/en/latest/quick-start/)\n",
    "\n",
    "#### Optional Anaconda Environment YAML:\n",
    "\n",
    "This notebook can be run using the ['opendap' YAML file](https://github.com/nasa/gesdisc-tutorials/tree/main/environments/opendap.yml) provided in the 'environments' subfolder.\n",
    "\n",
    "Please follow the instructions [here](https://conda.io/projects/conda/en/latest/user-guide/tasks/manage-environments.html#creating-an-environment-from-an-environment-yml-file) to install and activate this environment. "
   ]
  },
  {
   "cell_type": "markdown",
   "id": "6d3259b1",
   "metadata": {},
   "source": [
    "### Links Used in this Notebook\n",
    "\n",
    "There are several example links that will be used to access data from the same granule. Each link can be searched for using several tools, including [Earthdata Search](https://search.earthdata.nasa.gov/search/granules/granule-details?p=C1276812863-GES_DISC&pg[0][v]=f&pg[0][qt]=1980-01-01%2C1981&pg[0][gsk]=-start_date&g=G1277898447-GES_DISC&q=M2T1NXSLV&tl=1723660883!3!!), the [dataset landing page](https://disc.gsfc.nasa.gov/datasets/M2T1NXSLV_5.12.4/summary?keywords=M2T1NXSLV_5.12.4) for the particular collection, or through the [Content Metadata Repository](https://cmr.earthdata.nasa.gov/virtual-directory/collections/C1276812863-GES_DISC/temporal/1980/01/01).\n",
    "\n",
    "Links used in this notebook:\n",
    "- HTTPS: https://data.gesdisc.earthdata.nasa.gov/data/MERRA2/M2T1NXSLV.5.12.4/1980/01/MERRA2_100.tavg1_2d_slv_Nx.19800101.nc4\n",
    "- OPeNDAP (for subsetting): \n",
    "    - DAP4 Subsetting Page: https://opendap.earthdata.nasa.gov/collections/C1276812863-GES_DISC/granules/M2T1NXSLV.5.12.4%3AMERRA2_100.tavg1_2d_slv_Nx.19800101.nc4.dmr.html\n",
    "    - Example Subsetted URL: "
   ]
  },
  {
   "attachments": {},
   "cell_type": "markdown",
   "id": "l0uyzq5VDk-j",
   "metadata": {
    "id": "l0uyzq5VDk-j"
   },
   "source": [
    "### 1. Download Full Granules Using Python\n",
    "\n",
    "#### Option 1: Use `requests`\n",
    "\n",
    "`requests` is a popular Python library that simplifies Python access to Internet-based resources. In the following code, we demonstrate how to use 'Requests' to access GES DISC data using cookies created by a host operating system."
   ]
  },
  {
   "cell_type": "code",
   "execution_count": null,
   "id": "kc5XYhMmDtSE",
   "metadata": {
    "id": "kc5XYhMmDtSE"
   },
   "outputs": [],
   "source": [
    "import requests\n",
    "\n",
    "URL = 'https://data.gesdisc.earthdata.nasa.gov/data/MERRA2/M2T1NXSLV.5.12.4/1980/01/MERRA2_100.tavg1_2d_slv_Nx.19800101.nc4'\n",
    "\n",
    "# Set the FILENAME string to the data file name, the LABEL keyword value, or any customized name. \n",
    "FILENAME = 'your_file_string_goes_here'\n",
    "\n",
    "import requests\n",
    "result = requests.get(URL)\n",
    "try:\n",
    "    result.raise_for_status()\n",
    "    f = open(FILENAME,'wb')\n",
    "    f.write(result.content)\n",
    "    f.close()\n",
    "    print('contents of URL written to '+FILENAME)\n",
    "except:\n",
    "    print('requests.get() returned an error code '+str(result.status_code))"
   ]
  },
  {
   "cell_type": "markdown",
   "id": "00915c09",
   "metadata": {},
   "source": [
    "#### Option 2: Use `earthaccess`\n",
    "\n",
    "The `earthaccess` library can be used to search for granules and download them to your local machine. The `search_data` function will search for granules inside the specified temporal and bounding box ranges, and will return a list of URLs to be downloaded. Finally, it will download these URLs, assuming you have been authenticated using your previously-generated Earthdata prerequisite files."
   ]
  },
  {
   "cell_type": "code",
   "execution_count": null,
   "id": "cb1f4694",
   "metadata": {},
   "outputs": [],
   "source": [
    "import earthaccess\n",
    "\n",
    "# This will work if Earthdata prerequisite files have already been generated\n",
    "auth = earthaccess.login()\n",
    "\n",
    "# To download multiple files, change the second temporal parameter\n",
    "results = earthaccess.search_data(\n",
    "    short_name='M2T1NXSLV.5.12.4',\n",
    "    temporal=('1980-01-01', '1980-01-02'), # This will download the same 1980-01-01 granule used elsewhere in this notebook\n",
    "    bounding_box=(-180, 0, 180, 90)\n",
    ")\n",
    "\n",
    "downloaded_files = earthaccess.download(\n",
    "    results,\n",
    "    local_path='.', # Change this string to download to a different path\n",
    ")"
   ]
  },
  {
   "attachments": {},
   "cell_type": "markdown",
   "id": "oRj2te56DwTr",
   "metadata": {
    "id": "oRj2te56DwTr"
   },
   "source": [
    "### 2. Subset and Stream Data From OPeNDAP Servers\n",
    "\n",
    "#### Option 1: Use `pydap` with Earthdata Login Credentials\n",
    "\n",
    "A convenient access to GES DISC OPeNDAP resources can be also achieved with 'Pydap', a Python library that both provides an interface for Python programs to read from OPeNDAP servers and the netCDF4 Python module which uses the netCDF-C library to actually access data.\n",
    "\n"
   ]
  },
  {
   "cell_type": "code",
   "execution_count": null,
   "id": "Wa-rQXw3D2hs",
   "metadata": {
    "id": "Wa-rQXw3D2hs"
   },
   "outputs": [],
   "source": [
    "from pydap.client import open_url\n",
    "from pydap.cas.urs import setup_session\n",
    "import getpass\n",
    "\n",
    "dataset_url = 'https://servername/opendap/path/file[.format[?subset]]'\n",
    "\n",
    "prompts = [\n",
    "    'Enter NASA Earthdata Login Username \\n(or create an account at urs.earthdata.nasa.gov): ',\n",
    "    'Enter NASA Earthdata Login Password: '\n",
    "]\n",
    "\n",
    "username = input(prompts[0])\n",
    "password = getpass.getpass(prompts[1])\n",
    "\n",
    "try:\n",
    "    session = setup_session(username, password, check_url=dataset_url)\n",
    "    dataset = open_url(dataset_url, session=session)\n",
    "    dataset.tree() # Open the dataset and view its contents\n",
    "except AttributeError as e:\n",
    "    print('Error:', e)\n",
    "    print('Please verify that the dataset URL points to an OPeNDAP server, the OPeNDAP server is accessible, or that your username and password are correct.')"
   ]
  },
  {
   "attachments": {},
   "cell_type": "markdown",
   "id": "185538db",
   "metadata": {},
   "source": [
    "### Python using 'Xarray'\n",
    "\n",
    "If you wish to open datasets as Xarray data objects, you can simply pass in a dataset URL to the <code>open_dataset()</code> function. Depending on the subsetting service that you wish to access, different Earthdata authentication files may be required. Here, we demonstrate accessing a granule via OPeNDAP and THREDDS.\n",
    "\n",
    "#### OPeNDAP in Xarray:\n"
   ]
  },
  {
   "cell_type": "code",
   "execution_count": null,
   "id": "983bf113",
   "metadata": {},
   "outputs": [],
   "source": [
    "import xarray as xr\n",
    "\n",
    "# Reading a single granule URL:\n",
    "ds = xr.open_dataset('https://servername/opendap/path/file[.format[?subset]]')"
   ]
  },
  {
   "attachments": {},
   "cell_type": "markdown",
   "id": "c938f838",
   "metadata": {},
   "source": [
    "#### THREDDS in Xarray:\n",
    "\n",
    "Datasets that include <code>.ncml</code> aggregation, like some provided through THREDDS, may be useful for quickly subsetting multiple granules into a single data array.\n",
    "\n",
    "This operation requires a <code>.dodsrc</code> file in your root and working directories, and a <code>.netrc</code> file in your root directory."
   ]
  },
  {
   "cell_type": "code",
   "execution_count": null,
   "id": "89f27aa7",
   "metadata": {},
   "outputs": [],
   "source": [
    "# Subsetting a .ncml file URL:\n",
    "URL = 'https://servername/thredds/dodsC/path/dataset_Aggregation.ncml'\n",
    "\n",
    "try:\n",
    "    ds = xr.open_dataset(URL).sel(lat=slice(lat1,lat2),lon=slice(lon1,lon2),time=slice(time1,time2))\n",
    "except OSError as e:\n",
    "    print('Error', e)\n",
    "    print('Please check that your .dodsrc files are in their correct locations, or that your .netrc file has the correct username and password.')"
   ]
  },
  {
   "attachments": {},
   "cell_type": "markdown",
   "id": "feb143f8",
   "metadata": {},
   "source": [
    "### Python using 'netCDF4-python'\n",
    "\n",
    "netCDF4-python is a Python library that uses the [netCDF-c](https://github.com/Unidata/netcdf-c) library to open and read netCDF4 files. It can be used to remotely access OPeNDAP netCDF4 granules, or locally downloaded netCDF4 granules."
   ]
  },
  {
   "attachments": {},
   "cell_type": "markdown",
   "id": "c2625c5b",
   "metadata": {},
   "source": [
    "#### OPeNDAP in netCDF4-python:\n",
    "\n",
    "This step requires a `.netrc` file in your root directory."
   ]
  },
  {
   "cell_type": "code",
   "execution_count": null,
   "id": "62af191c",
   "metadata": {},
   "outputs": [],
   "source": [
    "import netCDF4 as nc4\n",
    "\n",
    "nc = nc4.Dataset('https://servername/opendap/path/file[.nc4[?subset]]')"
   ]
  }
 ],
 "metadata": {
  "colab": {
   "collapsed_sections": [],
   "name": "Data_Access_Using_Python_Draft",
   "provenance": []
  },
  "kernelspec": {
   "display_name": "Python 3 (ipykernel)",
   "language": "python",
   "name": "python3"
  },
  "language_info": {
   "codemirror_mode": {
    "name": "ipython",
    "version": 3
   },
   "file_extension": ".py",
   "mimetype": "text/x-python",
   "name": "python",
   "nbconvert_exporter": "python",
   "pygments_lexer": "ipython3",
   "version": "3.7.10"
  }
 },
 "nbformat": 4,
 "nbformat_minor": 5
}
