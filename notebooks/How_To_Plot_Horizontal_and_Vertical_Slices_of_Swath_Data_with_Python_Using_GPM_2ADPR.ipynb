{
 "cells": [
  {
   "cell_type": "markdown",
   "metadata": {},
   "source": [
    "This How-To article contains some example code that shows how to use Python for plotting horizontal spatial maps and vertical cross sections (also known as curtain plots) of the Level 2 product [GPM_2ADPR](http://disc.gsfc.nasa.gov/datasets/GPM_2ADPR_V06/summary). (GPM = Global Precipitation Measurement; DPR = Dual-Frequency Precipitation Radar). The graphics in this article are based on the plots that appeared in a [service release announcement](https://disc.gsfc.nasa.gov/information/service-release?keywords=GPM_2ADPR_06&title=%20GPM%20DPR%20Data%20Supported%20by%20Level%202%20Subsetting%20Service) for the [Level 2 Subsetting Service](https://disc.gsfc.nasa.gov/information/howto?keywords=level%202%20subsetter&title=How%20to%20Subset%20Level-2%20Data)."
   ]
  },
  {
   "cell_type": "markdown",
   "metadata": {},
   "source": [
    "Here is the URL for the GPM_2ADPR granule used in this example:\n",
    "https://gpm1.gesdisc.eosdis.nasa.gov/data/GPM_L2/GPM_2ADPR.06/2018/256/2A.GPM.DPR.V8-20180723.20180913-S141724-E154957.025808.V06A.HDF5\n",
    "\n",
    "Please see https://disc.gsfc.nasa.gov/data-access for help in downloading the data file."
   ]
  },
  {
   "cell_type": "markdown",
   "metadata": {},
   "source": [
    "The first step is to import the required Python libraries. They are used to read and plot the data. If any of the following import commands fail, check the local Python environment and install any missing packages."
   ]
  },
  {
   "cell_type": "code",
   "execution_count": null,
   "metadata": {
    "vscode": {
     "languageId": "python"
    }
   },
   "outputs": [],
   "source": [
    "import numpy as np\n",
    "import h5py                  \n",
    "import matplotlib.pyplot as plt\n",
    "import cartopy.crs as ccrs"
   ]
  },
  {
   "cell_type": "markdown",
   "metadata": {},
   "source": [
    "The next step is to open the data file and load the required variables. In this example, we use the 3-dimensional variable _precipRate_ and the 2-dimensional _precipRateNearSurface_ from the Normal Scan swath group, along with the corresponding _Longitude_ and _Latitude_ variables."
   ]
  },
  {
   "cell_type": "code",
   "execution_count": null,
   "metadata": {
    "scrolled": true,
    "vscode": {
     "languageId": "python"
    }
   },
   "outputs": [],
   "source": [
    "# open the file, select the precipRate variables plus latitude and longitude\n",
    "file = './2A.GPM.DPR.V8-20180723.20180913-S141724-E154957.025808.V06A.HDF5'\n",
    "f = h5py.File(file,\"r\")\n",
    "pr   = f['/NS/SLV/precipRate']\n",
    "prns = f['/NS/SLV/precipRateNearSurface']\n",
    "lon  = f[\"/NS/Longitude\"]\n",
    "lat  = f[\"/NS/Latitude\"]\n",
    "print('/NS/SLV/precipRate dimension sizes are:',pr.shape)"
   ]
  },
  {
   "cell_type": "markdown",
   "metadata": {},
   "source": [
    "Read the data values for both precipitation variables from the file and copy them into numpy N-dimensional arrays. Replace the FillValues with NaN."
   ]
  },
  {
   "cell_type": "code",
   "execution_count": null,
   "metadata": {
    "vscode": {
     "languageId": "python"
    }
   },
   "outputs": [],
   "source": [
    "# Read the data into numpy arrays and put NaN where FillValues are\n",
    "\n",
    "# 3-Dimensional Precipitation Rate\n",
    "prdata = np.ndarray(shape=pr.shape,dtype=float)\n",
    "pr.read_direct(prdata)\n",
    "np.place(prdata, prdata==pr.attrs.get('_FillValue'), np.nan)\n",
    "\n",
    "# 2-Dimensional Near-Surface Precipitation Rage\n",
    "prnsdata = np.ndarray(shape=prns.shape,dtype=float)\n",
    "prns.read_direct(prnsdata)\n",
    "np.place(prnsdata, prnsdata==prns.attrs.get('_FillValue'), np.nan)"
   ]
  },
  {
   "cell_type": "markdown",
   "metadata": {},
   "source": [
    "The first example plot will show a segment of the 2-dimensional near-surface precipitation rate variable. The along-track dimension is cropped in order to zoom in on Typhoon Mangkhut as it neared the Philippine Islands on 13 September 2018. The following example code will generate the image in Figure 1."
   ]
  },
  {
   "cell_type": "code",
   "execution_count": null,
   "metadata": {
    "vscode": {
     "languageId": "python"
    }
   },
   "outputs": [],
   "source": [
    "# Subset the 2-Dimensional variable over the eye of Typhoon Mangkhut\n",
    "# Choose the range of the subset, e.g.:\n",
    "#   170 rows in the along-track dimension,\n",
    "#   All 49 elements in the cross-track dimension,\n",
    "start = 5500\n",
    "end = 5670\n",
    "mysub = prnsdata[start:end,:]\n",
    "mylon = lon[start:end,:]\n",
    "mylat = lat[start:end,:]"
   ]
  },
  {
   "cell_type": "code",
   "execution_count": null,
   "metadata": {
    "vscode": {
     "languageId": "python"
    }
   },
   "outputs": [],
   "source": [
    "# Draw the subset of near-surface precipitation rate \n",
    "fig = plt.figure(figsize=(8, 8))\n",
    "ax = plt.axes(projection=ccrs.PlateCarree())\n",
    "ax.set_extent([120,132,10.5,19.5])\n",
    "plt.title('Near-Surface Precipitation Rate from GPM_2ADPR, 13 September 2018')\n",
    "\n",
    "# Add coastlines and gridlines\n",
    "ax.coastlines(resolution=\"50m\",linewidth=0.5)\n",
    "gl = ax.gridlines(crs=ccrs.PlateCarree(),draw_labels=True,\n",
    "                  linewidth=0.8,color='#555555',alpha=0.5,linestyle='--')\n",
    "# Axis labels\n",
    "gl.xlabels_top = False\n",
    "gl.ylabels_right = False\n",
    "gl.xlines = True\n",
    "\n",
    "# Plot the scatter diagram \n",
    "pp = plt.scatter(mylon, mylat, c=mysub, cmap=plt.cm.Spectral_r, transform=ccrs.PlateCarree())\n",
    "\n",
    "# Add a colorbar to the bottom of the plot.\n",
    "fig.subplots_adjust(bottom=0.15,left=0.06,right=0.94)\n",
    "cbar_ax = fig.add_axes([0.12, 0.11, 0.76, 0.025])  \n",
    "cbar = plt.colorbar(pp,cax=cbar_ax,orientation='horizontal')\n",
    "cbar.set_label(label=prns.attrs.get('units').decode('utf-8'),size=10)\n"
   ]
  },
  {
   "cell_type": "markdown",
   "metadata": {},
   "source": [
    "The second example plot will display a vertical cross-section of the 3-dimensional precipitation rate variable. The along-track dimension is cropped as in the previous plot, but only one element in the cross-track dimension is selected in order to plot the vertical slice through the center of the storm oriented in the along-track direction. Only the lowest 76 vertical levels (from 0 to 9500 meters) are plotted. The following example code will generate the image in Figure 2."
   ]
  },
  {
   "cell_type": "code",
   "execution_count": null,
   "metadata": {
    "vscode": {
     "languageId": "python"
    }
   },
   "outputs": [],
   "source": [
    "# ALONG-TRACK VERTICAL PROFILE\n",
    "# Choose the range of the subset, e.g.:\n",
    "#   170 rows in the along-track dimension,\n",
    "#   One element in the cross-track dimension that slices through the eye of the storm\n",
    "#   The lowest 76 elements in the vertical dimension\n",
    "mysub2 = prdata[start:end,7,100:176]\n",
    "\n",
    "# Transpose the array so the along-track dimension will be the X-Axis\n",
    "#   and the vertical dimension will be the Y-Axis\n",
    "subset2 = np.transpose(mysub2)"
   ]
  },
  {
   "cell_type": "code",
   "execution_count": null,
   "metadata": {
    "vscode": {
     "languageId": "python"
    }
   },
   "outputs": [],
   "source": [
    "# Draw the ALONG-TRACK VERTICAL PROFILE\n",
    "fig = plt.figure(figsize=(8,6))\n",
    "ax = plt.axes()\n",
    "ax.set_xlabel('along-track axis index')\n",
    "ax.set_ylabel('vertical axis index')\n",
    "ax.set_title('Vertical Cross-Section (Along-Track)')\n",
    "pp = plt.imshow(subset2, cmap=plt.cm.Spectral_r)\n",
    "\n",
    "# Add a colorbar to the bottom of the plot.\n",
    "fig.subplots_adjust(bottom=0.15, left=0.06, right=0.94)\n",
    "cbar_ax = fig.add_axes([0.12, 0.11, 0.76, 0.025])  \n",
    "cbar = plt.colorbar(pp, cax=cbar_ax, orientation='horizontal')\n",
    "cbar.set_label(label=pr.attrs.get('units').decode('utf-8'),size=10)"
   ]
  },
  {
   "cell_type": "markdown",
   "metadata": {},
   "source": [
    "The third example plot also shows a similar vertical cross-section of the 3-dimensional precipitation rate variable slicing through the center of the storm, but this one is oriented in the cross-track direction instead. As in the previous plot, only the lowest 76 vertical levels (from 0 to 9500 meters) are plotted. The following example code will generate the image in Figure 3."
   ]
  },
  {
   "cell_type": "code",
   "execution_count": null,
   "metadata": {
    "vscode": {
     "languageId": "python"
    }
   },
   "outputs": [],
   "source": [
    "# CROSS-TRACK VERTICAL PROFILE\n",
    "# Choose the range of the subset, e.g.:\n",
    "#   One complete row in the along-track dimension that slices through the eye of the storm\n",
    "#   The lowest 76 elements in the vertical dimension\n",
    "mysub3 = prdata[start+92,:,100:176]\n",
    "\n",
    "# Transpose the array so the cross-track dimension will be the X-Axis\n",
    "#   and the vertical dimension will be the Y-Axis\n",
    "subset3 = np.transpose(mysub3)"
   ]
  },
  {
   "cell_type": "code",
   "execution_count": null,
   "metadata": {
    "vscode": {
     "languageId": "python"
    }
   },
   "outputs": [],
   "source": [
    "# Draw the CROSS-TRACK VERTICAL PROFILE\n",
    "fig = plt.figure(figsize=(4, 9))\n",
    "ax = plt.axes()\n",
    "ax.set_xlabel('cross-track axis index')\n",
    "ax.set_ylabel('vertical axis index')\n",
    "ax.set_title('Vertical Cross-Section (Cross-Track)')\n",
    "pp = plt.imshow(subset3, cmap=plt.cm.Spectral_r)\n",
    "\n",
    "# Add a colorbar to the bottom of the plot.\n",
    "fig.subplots_adjust(bottom=0.15,left=0.06, right=0.94)\n",
    "cbar_ax = fig.add_axes([0.12, 0.11, 0.76, 0.025])  \n",
    "cbar = plt.colorbar(pp, cax=cbar_ax, orientation='horizontal')\n",
    "cbar.set_label(label=pr.attrs.get('units').decode('utf-8'),size=10)"
   ]
  },
  {
   "cell_type": "code",
   "execution_count": null,
   "metadata": {
    "vscode": {
     "languageId": "python"
    }
   },
   "outputs": [],
   "source": []
  }
 ],
 "metadata": {
  "kernelspec": {
   "display_name": "Python 3 (ipykernel)",
   "language": "python",
   "name": "python3"
  }
 },
 "nbformat": 4,
 "nbformat_minor": 4
}
