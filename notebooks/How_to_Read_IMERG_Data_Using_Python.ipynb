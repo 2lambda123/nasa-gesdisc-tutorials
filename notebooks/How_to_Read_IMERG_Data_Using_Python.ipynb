{
 "cells": [
  {
   "attachments": {},
   "cell_type": "markdown",
   "metadata": {},
   "source": [
    "\n",
    "# How to Read IMERG Data Using Python\n",
    "\n",
    "***\n",
    "\n",
    "## Overview:\n",
    "This recipe shows how to read data from the Global Precipitation Measurement (GPM) mission's IMERG dataset using Python.\n",
    "\n",
    "## Example:\n",
    "***Example data:*** _GPM Level 3 IMERG Monthly 0.1 x 0.1 degree Precipitation (GPM\\_3IMERGM) for January 2014._\n",
    "\n",
    "**Estimated Time to complete the following procedures:** 20 minutes\n",
    "\n",
    "## Prerequisites:\n",
    "**Task:** Viewing Data\n",
    "\n",
    "**Best When:** The user wants to read in GPM IMERG data using Python\n",
    "\n",
    "**Requirements:** Python and the free packages: [h5py](http://www.h5py.org/), [numpy](http://www.numpy.org/), [matplotlib](http://matplotlib.org/), and [cartopy](https://scitools.org.uk/cartopy/docs/latest/). Matplotlib and Cartopy are only needed for plotting.\n",
    "\n",
    "## Procedure:\n",
    "### 1\\. Download the data\n",
    "\n",
    "  Before accessing data at GES DISC, a  user must first register with Earthdata Login, then be authorized to access data at GES DISC by following steps at:  [data-access.](https://disc.gsfc.nasa.gov/information/documents?title=Data%20Access)\n",
    "\n",
    "- In a web browser, go to: https://disc.gsfc.nasa.gov\n",
    "- In the Search field, enter GPM_3IMERGM and press enter. Figure 1 shows a screen shot of what the search results look like. \n",
    "- Click on the latest version of the GPM_3IMERGM data, currently version 5.\n",
    "- Click on the \"Online Archive\" button on the right.\n",
    "    - click on the \"2014/\" folder\n",
    "    - click on the link \"[3B-MO.MS.MRG.3IMERG.20140101-S000000-E235959.01.V06B.HDF5](https://gpm1.gesdisc.eosdis.nasa.gov/data/GPM_L3/GPM_3IMERGM.06/2014/3B-MO.MS.MRG.3IMERG.20140101-S000000-E235959.01.V06B.HDF5)\" to download the data file.\n",
    "- **Note:** this recipe works for any IMERG data, not just monthly estimates."
   ]
  },
  {
   "attachments": {},
   "cell_type": "markdown",
   "metadata": {},
   "source": [
    "<img src =\"https://disc.gsfc.nasa.gov/api/images/GPM_3IMERGM_figure1/file\" title=\"Image1\" width=650 height=500 />\n",
    "\n",
    "**Figure 1:** Example GES DISC search results for GPM_3IMERGM."
   ]
  },
  {
   "attachments": {},
   "cell_type": "markdown",
   "metadata": {},
   "source": [
    "### 2. Run the following cells to learn how to read and plot IMERG data with Python\n",
    "\n",
    "The first step is to import the required Python libraries. If any of the following import commands fail, check the local Python environment and install any missing packages. "
   ]
  },
  {
   "cell_type": "code",
   "execution_count": null,
   "metadata": {},
   "outputs": [],
   "source": [
    "import h5py\n",
    "import numpy as np\n",
    "import matplotlib.pyplot as plt\n",
    "import cartopy.crs as ccrs\n",
    "from cartopy.mpl.gridliner import LONGITUDE_FORMATTER, LATITUDE_FORMATTER\n",
    "import matplotlib.ticker as mticker"
   ]
  },
  {
   "attachments": {},
   "cell_type": "markdown",
   "metadata": {},
   "source": [
    "Open the IMERG data for reading:"
   ]
  },
  {
   "cell_type": "code",
   "execution_count": null,
   "metadata": {},
   "outputs": [],
   "source": [
    "# It may be necessary to add a path to the filename if it is not in the working directory\n",
    "fn = '3B-MO.MS.MRG.3IMERG.20140101-S000000-E235959.01.V06B.HDF5'\n",
    "f = h5py.File(fn, 'r')"
   ]
  },
  {
   "attachments": {},
   "cell_type": "markdown",
   "metadata": {},
   "source": [
    "View the available groups in the file and the variables in the 'Grid' group:"
   ]
  },
  {
   "cell_type": "code",
   "execution_count": null,
   "metadata": {},
   "outputs": [],
   "source": [
    "groups = [ x for x in f.keys() ]\n",
    "print(groups)\n",
    "gridMembers = [ x for x in f['Grid'] ]\n",
    "print(gridMembers)"
   ]
  },
  {
   "attachments": {},
   "cell_type": "markdown",
   "metadata": {},
   "source": [
    "Read the precipitation, latitude, and longitude data:"
   ]
  },
  {
   "cell_type": "code",
   "execution_count": null,
   "metadata": {
    "scrolled": true
   },
   "outputs": [],
   "source": [
    "# Get the precipitation, latitude, and longitude variables\n",
    "precip = f['Grid/precipitation'][0][:][:]\n",
    "precip = np.transpose(precip)\n",
    "theLats = f['Grid/lat'][:]\n",
    "theLons = f['Grid/lon'][:]\n",
    "x, y = np.float32(np.meshgrid(theLons, theLats))"
   ]
  },
  {
   "attachments": {},
   "cell_type": "markdown",
   "metadata": {},
   "source": [
    "Plot the data using matplotlib and Cartopy"
   ]
  },
  {
   "cell_type": "code",
   "execution_count": null,
   "metadata": {},
   "outputs": [],
   "source": [
    "# Set the figure size, projection, and extent\n",
    "fig = plt.figure(figsize=(21,7))\n",
    "ax = plt.axes(projection=ccrs.PlateCarree())\n",
    "ax.set_extent([-180,180,-60,60])  \n",
    "\n",
    "# Add coastlines and formatted gridlines\n",
    "ax.coastlines(resolution=\"110m\",linewidth=1)\n",
    "gl = ax.gridlines(crs=ccrs.PlateCarree(), draw_labels=True,\n",
    "                  linewidth=1, color='black', linestyle='--')\n",
    "gl.xlabels_top = False\n",
    "gl.ylabels_right = False\n",
    "gl.xlines = True\n",
    "gl.xlocator = mticker.FixedLocator([-180, -90, 0, 90, 180])\n",
    "gl.ylocator = mticker.FixedLocator([-60, -50, -25, 0, 25, 50, 60])\n",
    "gl.xformatter = LONGITUDE_FORMATTER\n",
    "gl.yformatter = LATITUDE_FORMATTER\n",
    "gl.xlabel_style = {'size':16, 'color':'black'}\n",
    "gl.ylabel_style = {'size':16, 'color':'black'}\n",
    "\n",
    "# Set contour levels and draw the plot\n",
    "clevs = np.arange(0,1.26,0.05)\n",
    "plt.contourf(x, y, precip, clevs, cmap=plt.cm.rainbow)\n",
    "plt.title('GPM IMERG Monthly Mean Rain Rate for January 2014', size=24)\n",
    "cb = plt.colorbar(ax=ax, orientation=\"vertical\", pad=0.02, aspect=16, shrink=0.8)\n",
    "cb.set_label('mm / hr',size=20)\n",
    "cb.ax.tick_params(labelsize=16)"
   ]
  },
  {
   "attachments": {},
   "cell_type": "markdown",
   "metadata": {},
   "source": [
    "Save the figure as a PNG:"
   ]
  },
  {
   "cell_type": "code",
   "execution_count": null,
   "metadata": {},
   "outputs": [],
   "source": [
    "fig.savefig('GPM_3IMERG_plot.png', bbox_inches='tight', pad_inches = 0.1)"
   ]
  },
  {
   "attachments": {},
   "cell_type": "markdown",
   "metadata": {},
   "source": [
    "<font size=\"1\">THE SUBJECT FILE IS PROVIDED \"AS IS\" WITHOUT ANY WARRANTY OF ANY KIND, EITHER EXPRESSED, IMPLIED, OR STATUTORY, INCLUDING, BUT NOT LIMITED TO, ANY WARRANTY THAT THE SUBJECT FILE WILL CONFORM TO SPECIFICATIONS, ANY IMPLIED WARRANTIES OF MERCHANTABILITY, FITNESS FOR A PARTICULAR PURPOSE, OR FREEDOM FROM INFRINGEMENT, ANY WARRANTY THAT THE SUBJECT FILE WILL BE ERROR FREE, OR ANY WARRANTY THAT DOCUMENTATION, IF PROVIDED, WILL CONFORM TO THE SUBJECT FILE. THIS AGREEMENT DOES NOT, IN ANY MANNER, CONSTITUTE AN ENDORSEMENT BY GOVERNMENT AGENCY OR ANY PRIOR RECIPIENT OF ANY RESULTS, RESULTING DESIGNS, HARDWARE, SOFTWARE PRODUCTS OR ANY OTHER APPLICATIONS RESULTING FROM USE OF THE SUBJECT FILE. FURTHER, GOVERNMENT AGENCY DISCLAIMS ALL WARRANTIES AND LIABILITIES REGARDING THIRD-PARTY SOFTWARE, IF PRESENT IN THE SUBJECT FILE, AND DISTRIBUTES IT \"AS IS.\""
   ]
  }
 ],
 "metadata": {
  "kernelspec": {
   "display_name": "Python 3",
   "language": "python",
   "name": "python3"
  },
  "language_info": {
   "codemirror_mode": {
    "name": "ipython",
    "version": 3
   },
   "file_extension": ".py",
   "mimetype": "text/x-python",
   "name": "python",
   "nbconvert_exporter": "python",
   "pygments_lexer": "ipython3",
   "version": "3.7.3"
  }
 },
 "nbformat": 4,
 "nbformat_minor": 2
}
