{
 "cells": [
  {
   "attachments": {},
   "cell_type": "markdown",
   "metadata": {},
   "source": [
    "# How to Use the Web Services API for Subsetting\n",
    "\n",
    "### Overview:\n",
    "The NASA Goddard Earth Sciences Data and Information Services Center (GES DISC) has developed an Application Program Interface (API) for interacting with our Web Processing Services in a programmatic way. The API is intended for users who would like to apply our subsetting services to numerous data granules spanning a long time range or a variety of data products -- circumstances that make using the Web browser interface quite inefficient.\n",
    "\n",
    "### Example:\n",
    "This example code demonstrates how to use the API to submit an asynchronous request to the GES DISC Subsetting Service using Python. The API is a communication protocol that allows users to find the granules they need and download the desired data subsets. Information is passed back and forth in JavaScript Object Notation (JSON) format.\n",
    "\n",
    "### Prerequisites:\n",
    "This example code is written with Python 3.9 and requires the following libraries: \n",
    "- [urllib3](https://urllib3.readthedocs.io/en/stable/)\n",
    "- [certifi](https://github.com/certifi/python-certifi) \n",
    "- [requests](https://requests.readthedocs.io/en/latest/)"
   ]
  },
  {
   "attachments": {},
   "cell_type": "markdown",
   "metadata": {},
   "source": [
    "The first step is to import the required Python libraries. If any of the following import commands fail, check the local Python environment and install any missing packages. These lines will be necessary to run the rest of the cells:"
   ]
  },
  {
   "cell_type": "code",
   "execution_count": 1,
   "metadata": {},
   "outputs": [],
   "source": [
    "import sys\n",
    "import json\n",
    "import urllib3\n",
    "import certifi\n",
    "import requests\n",
    "from time import sleep"
   ]
  },
  {
   "attachments": {},
   "cell_type": "markdown",
   "metadata": {},
   "source": [
    "Initialize the urllib PoolManager and set the base URL for the API requests that will be sent to the GES DISC subsetting service."
   ]
  },
  {
   "cell_type": "code",
   "execution_count": 2,
   "metadata": {},
   "outputs": [],
   "source": [
    "# Create a urllib PoolManager instance to make requests.\n",
    "http = urllib3.PoolManager(cert_reqs='CERT_REQUIRED',ca_certs=certifi.where())\n",
    "\n",
    "# Set the URL for the GES DISC subset service endpoint\n",
    "svcurl = 'https://disc.gsfc.nasa.gov/service/subset/jsonwsp'"
   ]
  },
  {
   "attachments": {},
   "cell_type": "markdown",
   "metadata": {},
   "source": [
    "Define a local general-purpose method that submits JSON-formatted WSP requests to the GES DISC server, checks for any errors, and then returns the service’s response. This method is created for convenience since this task will be repeated more than once. "
   ]
  },
  {
   "cell_type": "code",
   "execution_count": 3,
   "metadata": {},
   "outputs": [],
   "source": [
    "# This method POSTs formatted JSON WSP requests to the GES DISC endpoint URL and returns the response\n",
    "def get_http_data(request):\n",
    "    hdrs = {'Content-Type': 'application/json',\n",
    "            'Accept'      : 'application/json'}\n",
    "    data = json.dumps(request)       \n",
    "    r = http.request('POST', svcurl, body=data, headers=hdrs)\n",
    "    response = json.loads(r.data)   \n",
    "    # Check for errors\n",
    "    if response['type'] == 'jsonwsp/fault' :\n",
    "        print('API Error: faulty request')\n",
    "    return response"
   ]
  },
  {
   "attachments": {},
   "cell_type": "markdown",
   "metadata": {},
   "source": [
    "The data product used in this example is the Microwave Limb Sounder Level 2 Temperature Profile (ML2T_004). Three variables are selected: Temperature, TemperaturePrecision, and the Quality flag. The spatial domain is the global latitude band from 30oS to 30oN, vertical pressure levels range from 1000 to 100 hectoPascals (hPa), and the date range is 1-3 August 2015. The specifics of the subset are coded as local variables so they can be easily changed for different use cases. The desired spatial and temporal constraints, along with the dataset and variable specifications, are stored in a JSON-based Web Service Protocol (WSP) structure, which is named “subset_request”. "
   ]
  },
  {
   "cell_type": "code",
   "execution_count": 4,
   "metadata": {},
   "outputs": [],
   "source": [
    "# Define the parameters for the data subset\n",
    "product = 'ML2T_004'\n",
    "begTime = '2015-08-01T00:00:00.000Z'\n",
    "endTime = '2015-08-03T23:59:59.999Z'\n",
    "minlon = -180.0\n",
    "maxlon = 180.0\n",
    "minlat = -30.0\n",
    "maxlat = 30.0\n",
    "varNames = ['/HDFEOS/SWATHS/Temperature/Data Fields/Temperature',\n",
    "            '/HDFEOS/SWATHS/Temperature/Data Fields/TemperaturePrecision',\n",
    "            '/HDFEOS/SWATHS/Temperature/Data Fields/Quality']\n",
    "\n",
    "# The dimension slice will be for pressure levels between 1000 and 100 hPa\n",
    "dimName = '/HDFEOS/SWATHS/Temperature/nLevels'\n",
    "dimVals = [1,2,3,4,5,6,7,8,9,10,11,12,13] \n",
    "dimSlice = []\n",
    "for i in range(len(dimVals)) :\n",
    "    dimSlice.append({'dimensionId': dimName, 'dimensionValue': dimVals[i]})"
   ]
  },
  {
   "attachments": {},
   "cell_type": "markdown",
   "metadata": {},
   "source": [
    "The parameters in this particular subset_request structure are: <code>methodname</code>, <code>type</code>, <code>version</code>, and <code>args</code>. The <code>args</code> contain additional parameters that control the specifics for the subset.  For this example, the args parameters are: <code>role</code>, <code>start</code>, <code>end</code>, <code>box</code>, <code>crop</code>, and <code>data</code>. The <code>start</code> and <code>end</code> parameters provide the desired time range. The <code>box</code> parameter specifies the desired spatial domain which will constrain the granule search -- only data granules that cover the domain will be returned. The <code>crop</code> parameter is a True/False flag indicating whether to perform spatial subsetting on the granules returned by the spatial search. Granules will not be trimmed to the specified spatial domain unless <code>crop</code> is set to True. The <code>data</code> parameter is another list containing attribute:value pairs that include the <code>datasetID</code>, the <code>variable</code> name, and the <code>slice</code> parameter, which contains a list of dimensionName:index pairs. Each desired variable must be listed separately within the <code>data</code> parameter. To retrieve all the variables in the data file, omit the variable:name pair. The <code>slice</code> parameter is also optional; leave it out to retrieve all the variable dimensions."
   ]
  },
  {
   "cell_type": "code",
   "execution_count": 5,
   "metadata": {},
   "outputs": [],
   "source": [
    "# Construct JSON WSP request for API method: subset\n",
    "subset_request = {\n",
    "    'methodname': 'subset',\n",
    "    'type': 'jsonwsp/request',\n",
    "    'version': '1.0',\n",
    "    'args': {\n",
    "        'role'  : 'subset',\n",
    "        'start' : begTime,\n",
    "        'end'   : endTime,\n",
    "        'box'   : [minlon, minlat, maxlon, maxlat],  \n",
    "        'crop'  : True,\n",
    "        'data'  : [{'datasetId': product,\n",
    "                    'variable' : varNames[0], \n",
    "                    'slice'    : dimSlice\n",
    "                   },\n",
    "                   {'datasetId': product,\n",
    "                    'variable' : varNames[1],\n",
    "                    'slice'    : dimSlice\n",
    "                   },\n",
    "                   {'datasetId': product,\n",
    "                    'variable' : varNames[2]\n",
    "                   }]\n",
    "    }\n",
    "}"
   ]
  },
  {
   "attachments": {},
   "cell_type": "markdown",
   "metadata": {},
   "source": [
    "For a point+radius subset, use <code>lon</code>, <code>lat</code>, and <code>radius</code> parameters instead of <code>box</code>. For example, these values might be suitable for selecting radial subsets around Greenland:\n",
    "\n",
    "        'lon'    : -40.0,\n",
    "        'lat'    : 72.0,\n",
    "        'radius' : '12deg',\n"
   ]
  },
  {
   "attachments": {},
   "cell_type": "markdown",
   "metadata": {},
   "source": [
    "In the next step, the JSON-formatted subset_request is POSTed to the GES DISC server. \n",
    "The Job ID is extracted from the response -- to be used later as a reference for the request."
   ]
  },
  {
   "cell_type": "code",
   "execution_count": 6,
   "metadata": {},
   "outputs": [
    {
     "name": "stdout",
     "output_type": "stream",
     "text": [
      "Job ID: 647a061a27c508d0dee29c00\n",
      "Job status: Accepted\n"
     ]
    }
   ],
   "source": [
    "# Submit the subset request to the GES DISC Server\n",
    "response = get_http_data(subset_request)\n",
    "\n",
    "# Report the JobID and initial status\n",
    "myJobId = response['result']['jobId']\n",
    "print('Job ID: '+myJobId)\n",
    "print('Job status: '+response['result']['Status'])"
   ]
  },
  {
   "attachments": {},
   "cell_type": "markdown",
   "metadata": {},
   "source": [
    "At this point in the code, the job is running on the GES DISC server. The next step is to construct another JSON WSP request to periodically retrieve the job status, using the extracted Job ID. When the job is finished, check on the final status to ensure the job succeeded. "
   ]
  },
  {
   "cell_type": "code",
   "execution_count": 7,
   "metadata": {},
   "outputs": [
    {
     "name": "stdout",
     "output_type": "stream",
     "text": [
      "Job status: Succeeded (100% complete)\n",
      "Job Finished:  Complete (ML2T_004)\n"
     ]
    }
   ],
   "source": [
    "# Construct JSON WSP request for API method: GetStatus\n",
    "status_request = {\n",
    "    'methodname': 'GetStatus',\n",
    "    'version': '1.0',\n",
    "    'type': 'jsonwsp/request',\n",
    "    'args': {'jobId': myJobId}\n",
    "}\n",
    "\n",
    "# Check on the job status after a brief nap\n",
    "while response['result']['Status'] in ['Accepted', 'Running']:\n",
    "    sleep(5)\n",
    "    response = get_http_data(status_request)\n",
    "    status  = response['result']['Status']\n",
    "    percent = response['result']['PercentCompleted']\n",
    "    print ('Job status: %s (%d%c complete)' % (status,percent,'%'))\n",
    "\n",
    "if response['result']['Status'] == 'Succeeded' :\n",
    "    print ('Job Finished:  %s' % response['result']['message'])\n",
    "else : \n",
    "    print('Job Failed: %s' % response['fault']['code'])\n",
    "    sys.exit(1)"
   ]
  },
  {
   "attachments": {},
   "cell_type": "markdown",
   "metadata": {},
   "source": [
    "Knowing that the job has finished successfully, it is time to retrieve the results. The results of a subset request job are URLs: there are HTTP_Services URLs (one for every data granule in the time range of interest) plus links to any relevant documentation. Each HTTP_Services URL contains the specifics of the subset request encoded as facets. Data subsets and documentation files are downloaded using the requests Python library.\n",
    "\n",
    "There are two ways to retrieve the list of URLs when the subset job is finished:\n",
    "\n",
    "**Plan A:** \n",
    "Use the API method named GetResult. This method will return the URLs along with three additional attributes: a label, plus the beginning and ending time stamps for that particular data granule. The label serves as the filename for the downloaded subsets. \n",
    "\n",
    "**Plan B:**\n",
    "Retrieve a plain-text list of URLs in a single shot using the saved JobID. This is a shortcut to retrieve just the list of URLs without any of the other metadata. "
   ]
  },
  {
   "attachments": {},
   "cell_type": "markdown",
   "metadata": {},
   "source": [
    "Below is the code for **Plan A**.\n",
    "The steps are to construct a third type of JSON WSP request that retrieves the results of this Job. When that request is submitted, the results are returned in multiple batches of 20 items, starting with item 0. The startIndex value in the results_request structure must be updated after each successive batch is retrieved."
   ]
  },
  {
   "cell_type": "code",
   "execution_count": 8,
   "metadata": {},
   "outputs": [
    {
     "name": "stdout",
     "output_type": "stream",
     "text": [
      "Retrieved 5 out of 5 expected items\n"
     ]
    }
   ],
   "source": [
    "# Construct JSON WSP request for API method: GetResult\n",
    "batchsize = 20\n",
    "results_request = {\n",
    "    'methodname': 'GetResult',\n",
    "    'version': '1.0',\n",
    "    'type': 'jsonwsp/request',\n",
    "    'args': {\n",
    "        'jobId': myJobId,\n",
    "        'count': batchsize,\n",
    "        'startIndex': 0\n",
    "    }\n",
    "}\n",
    "\n",
    "# Retrieve the results in JSON in multiple batches \n",
    "# Initialize variables, then submit the first GetResults request\n",
    "# Add the results from this batch to the list and increment the count\n",
    "results = []\n",
    "count = 0 \n",
    "response = get_http_data(results_request) \n",
    "count = count + response['result']['itemsPerPage']\n",
    "results.extend(response['result']['items']) \n",
    "\n",
    "# Increment the startIndex and keep asking for more results until we have them all\n",
    "total = response['result']['totalResults']\n",
    "while count < total :\n",
    "    results_request['args']['startIndex'] += batchsize \n",
    "    response = get_http_data(results_request) \n",
    "    count = count + response['result']['itemsPerPage']\n",
    "    results.extend(response['result']['items'])\n",
    "        \n",
    "# Check on the bookkeeping\n",
    "print('Retrieved %d out of %d expected items' % (len(results), total))"
   ]
  },
  {
   "attachments": {},
   "cell_type": "markdown",
   "metadata": {},
   "source": [
    "Below is the code for **Plan B**. \n",
    "Construct a request using the saved JobID and retrieve the results with the requests library. If the requests.get() method does not return an error, the URLs are stored locally and printed out for informational purposes. "
   ]
  },
  {
   "cell_type": "code",
   "execution_count": 9,
   "metadata": {},
   "outputs": [
    {
     "name": "stdout",
     "output_type": "stream",
     "text": [
      "\n",
      "https://mls.jpl.nasa.gov/data/eos_algorithm_atbd.pdf\n",
      "\n",
      "https://mls.jpl.nasa.gov/data/v4-2_data_quality_document.pdf\n",
      "\n",
      "https://acdisc.gesdisc.eosdis.nasa.gov/daac-bin/OTF/HTTP_services.cgi?FILENAME=%2Fdata%2FAura_MLS_Level2%2FML2T.004%2F2015%2FMLS-Aura_L2GP-Temperature_v04-22-c01_2015d213.he5&SERVICE=SUBSET_LEVEL2&FLAGS=GRIDTYPE__SWATH&VERSION=1.02&DATASET_VERSION=004&BBOX=-30%2C-180%2C30%2C180&LAYERS=LAYER_..2FHDFEOS..2FSWATHS..2FTemperature..2FnLevels%2C1%2C2%2C3%2C4%2C5%2C6%2C7%2C8%2C9%2C10%2C11%2C12%2C13&VARIABLES=..2FHDFEOS..2FSWATHS..2FTemperature..2FData..20Fields..2FTemperature%2C..2FHDFEOS..2FSWATHS..2FTemperature..2FData..20Fields..2FTemperaturePrecision%2C..2FHDFEOS..2FSWATHS..2FTemperature..2FData..20Fields..2FQuality%2C..2FHDFEOS..2FSWATHS..2FTemperature..2FGeolocation..20Fields..2FPressure&TIME=2015-08-01T00%3A00%3A00%2F2015-08-01T23%3A59%3A59&SHORTNAME=ML2T&FORMAT=aGU1Lw&LABEL=MLS-Aura_L2GP-Temperature_v04-22-c01_2015d213.SUB.he5\n",
      "\n",
      "https://acdisc.gesdisc.eosdis.nasa.gov/daac-bin/OTF/HTTP_services.cgi?FILENAME=%2Fdata%2FAura_MLS_Level2%2FML2T.004%2F2015%2FMLS-Aura_L2GP-Temperature_v04-22-c01_2015d214.he5&SERVICE=SUBSET_LEVEL2&FLAGS=GRIDTYPE__SWATH&VERSION=1.02&DATASET_VERSION=004&BBOX=-30%2C-180%2C30%2C180&LAYERS=LAYER_..2FHDFEOS..2FSWATHS..2FTemperature..2FnLevels%2C1%2C2%2C3%2C4%2C5%2C6%2C7%2C8%2C9%2C10%2C11%2C12%2C13&VARIABLES=..2FHDFEOS..2FSWATHS..2FTemperature..2FData..20Fields..2FTemperature%2C..2FHDFEOS..2FSWATHS..2FTemperature..2FData..20Fields..2FTemperaturePrecision%2C..2FHDFEOS..2FSWATHS..2FTemperature..2FData..20Fields..2FQuality%2C..2FHDFEOS..2FSWATHS..2FTemperature..2FGeolocation..20Fields..2FPressure&SHORTNAME=ML2T&FORMAT=aGU1Lw&LABEL=MLS-Aura_L2GP-Temperature_v04-22-c01_2015d214.SUB.he5\n",
      "\n",
      "https://acdisc.gesdisc.eosdis.nasa.gov/daac-bin/OTF/HTTP_services.cgi?FILENAME=%2Fdata%2FAura_MLS_Level2%2FML2T.004%2F2015%2FMLS-Aura_L2GP-Temperature_v04-22-c01_2015d215.he5&SERVICE=SUBSET_LEVEL2&FLAGS=GRIDTYPE__SWATH&VERSION=1.02&DATASET_VERSION=004&BBOX=-30%2C-180%2C30%2C180&LAYERS=LAYER_..2FHDFEOS..2FSWATHS..2FTemperature..2FnLevels%2C1%2C2%2C3%2C4%2C5%2C6%2C7%2C8%2C9%2C10%2C11%2C12%2C13&VARIABLES=..2FHDFEOS..2FSWATHS..2FTemperature..2FData..20Fields..2FTemperature%2C..2FHDFEOS..2FSWATHS..2FTemperature..2FData..20Fields..2FTemperaturePrecision%2C..2FHDFEOS..2FSWATHS..2FTemperature..2FData..20Fields..2FQuality%2C..2FHDFEOS..2FSWATHS..2FTemperature..2FGeolocation..20Fields..2FPressure&TIME=2015-08-03T00%3A00%3A00%2F2015-08-03T23%3A59%3A59&SHORTNAME=ML2T&FORMAT=aGU1Lw&LABEL=MLS-Aura_L2GP-Temperature_v04-22-c01_2015d215.SUB.he5\n"
     ]
    }
   ],
   "source": [
    "# Retrieve a plain-text list of results in a single shot using the saved JobID\n",
    "result = requests.get('https://disc.gsfc.nasa.gov/api/jobs/results/'+myJobId)\n",
    "try:\n",
    "    result.raise_for_status()\n",
    "    urls = result.text.split('\\n')\n",
    "    for i in urls : print('\\n%s' % i)\n",
    "except :\n",
    "    print('Request returned error code %d' % result.status_code)"
   ]
  },
  {
   "attachments": {},
   "cell_type": "markdown",
   "metadata": {},
   "source": [
    "It is important to remember that the results returned at this point are not data files, but lists of URLs. Most of the URLs will contain HTTP_services requests to actually do the subsetting and return the data, but some of them may be links to documentation files pertaining to the dataset in question. It is worthwhile to separate the document URLs from the HTTP_services URLs in case the documentation has already been retrieved. The way we do this is to check for start and end attributes, which are always associated with HTTP_services URLs. \n",
    "\n",
    "The remainder of the example code assumes the use of **Plan A** because it makes use of this extra metadata. "
   ]
  },
  {
   "cell_type": "code",
   "execution_count": 10,
   "metadata": {},
   "outputs": [
    {
     "name": "stdout",
     "output_type": "stream",
     "text": [
      "\n",
      "Documentation:\n",
      "EOS MLS Retrieval Process Algorithm Theoretical Basis: https://mls.jpl.nasa.gov/data/eos_algorithm_atbd.pdf\n",
      "Data Quality and Description Document: https://mls.jpl.nasa.gov/data/v4-2_data_quality_document.pdf\n"
     ]
    }
   ],
   "source": [
    "# Sort the results into documents and URLs\n",
    "docs = []\n",
    "urls = []\n",
    "for item in results :\n",
    "    try:\n",
    "        if item['start'] and item['end'] : urls.append(item) \n",
    "    except:\n",
    "        docs.append(item)\n",
    "\n",
    "# Print out the documentation links, but do not download them\n",
    "print('\\nDocumentation:')\n",
    "for item in docs : print(item['label']+': '+item['link'])"
   ]
  },
  {
   "attachments": {},
   "cell_type": "markdown",
   "metadata": {},
   "source": [
    "The final step is to use the requests.get() method to invoke each HTTP_Services URL and download the data files. The contents of the label attribute are used here as the output file name, but the name can be any string. It is important to download each file one at a time, in series rather than in parallel, in order to avoid overloading the GES DISC servers. \n"
   ]
  },
  {
   "cell_type": "code",
   "execution_count": 11,
   "metadata": {},
   "outputs": [
    {
     "name": "stdout",
     "output_type": "stream",
     "text": [
      "\n",
      "HTTP_services output:\n",
      "MLS-Aura_L2GP-Temperature_v04-22-c01_2015d213.SUB.he5\n",
      "MLS-Aura_L2GP-Temperature_v04-22-c01_2015d214.SUB.he5\n",
      "MLS-Aura_L2GP-Temperature_v04-22-c01_2015d215.SUB.he5\n"
     ]
    }
   ],
   "source": [
    "# Use the requests library to submit the HTTP_Services URLs and write out the results.\n",
    "print('\\nHTTP_services output:')\n",
    "for item in urls :\n",
    "    URL = item['link'] \n",
    "    result = requests.get(URL)\n",
    "    try:\n",
    "        result.raise_for_status()\n",
    "        outfn = item['label']\n",
    "        f = open(outfn,'wb')\n",
    "        f.write(result.content)\n",
    "        f.close()\n",
    "        print(outfn)\n",
    "    except:\n",
    "        print('Error! Status code is %d for this URL:\\n%s' % (result.status.code,URL))\n",
    "        print('Help for downloading data is at https://disc.gsfc.nasa.gov/information/documents?title=Data%20Access')"
   ]
  },
  {
   "attachments": {},
   "cell_type": "markdown",
   "metadata": {},
   "source": [
    "If the code above does not succeed in your particular environment, please check [How to Access GES DISC Data Using Python](https://disc.gsfc.nasa.gov/information/howto?keywords=python&title=How%20to%20Access%20GES%20DISC%20Data%20Using%20Python) for alternative Python examples. [The GES DISC guide to data access](https://disc.gsfc.nasa.gov/information/documents?title=Data%20Access) has some additional options for downloading data URLs. "
   ]
  },
  {
   "attachments": {},
   "cell_type": "markdown",
   "metadata": {},
   "source": [
    "**Additional Info:**  \n",
    "[Complete reference documentation for the GES DISC Subsetting Service API](https://disc.gsfc.nasa.gov/service/subset)  "
   ]
  },
  {
   "attachments": {},
   "cell_type": "markdown",
   "metadata": {},
   "source": [
    "<font size=\"1\">THE SUBJECT FILE IS PROVIDED \"AS IS\" WITHOUT ANY WARRANTY OF ANY KIND, EITHER EXPRESSED, IMPLIED, OR STATUTORY, INCLUDING, BUT NOT LIMITED TO, ANY WARRANTY THAT THE SUBJECT FILE WILL CONFORM TO SPECIFICATIONS, ANY IMPLIED WARRANTIES OF MERCHANTABILITY, FITNESS FOR A PARTICULAR PURPOSE, OR FREEDOM FROM INFRINGEMENT, ANY WARRANTY THAT THE SUBJECT FILE WILL BE ERROR FREE, OR ANY WARRANTY THAT DOCUMENTATION, IF PROVIDED, WILL CONFORM TO THE SUBJECT FILE. THIS AGREEMENT DOES NOT, IN ANY MANNER, CONSTITUTE AN ENDORSEMENT BY GOVERNMENT AGENCY OR ANY PRIOR RECIPIENT OF ANY RESULTS, RESULTING DESIGNS, HARDWARE, SOFTWARE PRODUCTS OR ANY OTHER APPLICATIONS RESULTING FROM USE OF THE SUBJECT FILE. FURTHER, GOVERNMENT AGENCY DISCLAIMS ALL WARRANTIES AND LIABILITIES REGARDING THIRD-PARTY SOFTWARE, IF PRESENT IN THE SUBJECT FILE, AND DISTRIBUTES IT \"AS IS.\"</font>"
   ]
  }
 ],
 "metadata": {
  "kernelspec": {
   "display_name": "Python 3",
   "language": "python",
   "name": "python3"
  },
  "language_info": {
   "codemirror_mode": {
    "name": "ipython",
    "version": 3
   },
   "file_extension": ".py",
   "mimetype": "text/x-python",
   "name": "python",
   "nbconvert_exporter": "python",
   "pygments_lexer": "ipython3",
   "version": "3.9.12"
  }
 },
 "nbformat": 4,
 "nbformat_minor": 2
}
