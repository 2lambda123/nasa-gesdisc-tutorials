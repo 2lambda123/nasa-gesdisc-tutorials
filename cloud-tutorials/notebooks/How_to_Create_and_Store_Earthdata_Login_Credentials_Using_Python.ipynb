{
 "cells": [
  {
   "cell_type": "markdown",
   "id": "informative-sucking",
   "metadata": {},
   "source": [
    "# How to Create and Store Earthdata Login Credentials Using Python\n",
    "### Author: Chris Battisto\n",
    "### Date Authored: 2-4-22\n",
    "\n",
    "### Timing\n",
    "\n",
    "Exercise: 5 minutes\n",
    "\n",
    "### Overview\n",
    "\n",
    "This notebook demonstrates how to generate and store your Earthdata Login credentials in a <code>.netrc</code> file.\n",
    "\n",
    "### Prerequisites\n",
    "\n",
    "This notebook was written using Python 3.8, and requires:\n",
    "- Valid Earthdata Login credentials\n"
   ]
  },
  {
   "cell_type": "markdown",
   "id": "broken-composite",
   "metadata": {},
   "source": [
    "### Import Libraries"
   ]
  },
  {
   "cell_type": "code",
   "execution_count": null,
   "id": "durable-disaster",
   "metadata": {},
   "outputs": [],
   "source": [
    "from netrc import netrc\n",
    "from subprocess import Popen\n",
    "from platform import system\n",
    "from getpass import getpass\n",
    "import os\n",
    "import requests"
   ]
  },
  {
   "cell_type": "markdown",
   "id": "mediterranean-nicaragua",
   "metadata": {},
   "source": [
    "### Generate the netrc file with your Earthdata credentials\n",
    "\n",
    "Whether you're accessing GES DISC data from your local machine or cloud-hosted resources, you must successfully store your Earthdata Login credentials in a <code>.netrc</code> file first. The following code snippet can be run and interacted with as a way to create and populate a <code>.netrc</code> file in the root directory of whichever system you're working in. It will also check if a <code>.netrc</code> file exists already.\n",
    "\n",
    "Alternatively, you can upload a previously generated <code>.netrc</code> file to the root directory of your system. If you believe you have entered an incorrect username or password, you must manually remove the previously generated <code>.netrc</code> by before running the below cell again to re-generate a new file.\n",
    "\n",
    "\n",
    "If you are operating in a Windows environment, the code in the following Openscapes tutorial will automatically check if the operating system is Windows or UNIX: https://nasa-openscapes.github.io/earthdata-cloud-cookbook/get-started/earthdata-login.html#python-for-windows-or-macos"
   ]
  },
  {
   "cell_type": "code",
   "execution_count": null,
   "id": "rotary-twelve",
   "metadata": {},
   "outputs": [],
   "source": [
    "urs = 'urs.earthdata.nasa.gov'    # Earthdata URL endpoint for authentication\n",
    "prompts = ['Enter NASA Earthdata Login Username: ',\n",
    "           'Enter NASA Earthdata Login Password: ']\n",
    "\n",
    "netrc_name = \".netrc\"\n",
    "\n",
    "# Determine if netrc file exists, and if so, if it includes NASA Earthdata Login Credentials\n",
    "try:\n",
    "    netrcDir = os.path.expanduser(f\"~/{netrc_name}\")\n",
    "    netrc(netrcDir).authenticators(urs)[0]\n",
    "\n",
    "# Below, create a netrc file and prompt user for NASA Earthdata Login Username and Password\n",
    "except FileNotFoundError:\n",
    "    homeDir = os.path.expanduser(\"~\")\n",
    "    Popen('touch {0}{2} | echo machine {1} >> {0}{2}'.format(homeDir + os.sep, urs, netrc_name), shell=True)\n",
    "    Popen('echo login {} >> {}{}'.format(getpass(prompt=prompts[0]), homeDir + os.sep, netrc_name), shell=True)\n",
    "    Popen('echo \\'password {} \\'>> {}{}'.format(getpass(prompt=prompts[1]), homeDir + os.sep, netrc_name), shell=True)\n",
    "    # Set restrictive permissions\n",
    "    Popen('chmod 0600 {0}{1}'.format(homeDir + os.sep, netrc_name), shell=True)\n"
   ]
  },
  {
   "cell_type": "markdown",
   "id": "2cde3568",
   "metadata": {},
   "source": [
    "Check that the file is present inside of your home directory:"
   ]
  },
  {
   "cell_type": "code",
   "execution_count": null,
   "id": "a38f117a",
   "metadata": {},
   "outputs": [],
   "source": [
    "! ls -al ~/"
   ]
  },
  {
   "cell_type": "code",
   "execution_count": null,
   "id": "98d31d2a-b46d-40e6-8747-353c1d18d472",
   "metadata": {},
   "outputs": [],
   "source": []
  }
 ],
 "metadata": {
  "kernelspec": {
   "display_name": "Python 3 (ipykernel)",
   "language": "python",
   "name": "python3"
  },
  "language_info": {
   "codemirror_mode": {
    "name": "ipython",
    "version": 3
   },
   "file_extension": ".py",
   "mimetype": "text/x-python",
   "name": "python",
   "nbconvert_exporter": "python",
   "pygments_lexer": "ipython3",
   "version": "3.9.15"
  }
 },
 "nbformat": 4,
 "nbformat_minor": 5
}
